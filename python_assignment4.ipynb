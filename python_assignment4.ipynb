{
 "cells": [
  {
   "cell_type": "markdown",
   "metadata": {},
   "source": [
    "# #ASSIGNMENT 4"
   ]
  },
  {
   "cell_type": "markdown",
   "metadata": {},
   "source": [
    "1.1)Write a Python Program(with class concepts) to find the area of the triangle using the below\n",
    "formula.\n",
    "area = (s*(s-a)*(s-b)*(s-c)) ** 0.5\n",
    "Function to take the length of the sides of triangle from user should be defined in the parent\n",
    "class and function to calculate the area should be defined in subclass."
   ]
  },
  {
   "cell_type": "code",
   "execution_count": 5,
   "metadata": {},
   "outputs": [
    {
     "name": "stdout",
     "output_type": "stream",
     "text": [
      "enter the 3 sides of triangle :\n",
      "a: 2\n",
      "b: 3\n",
      "c: 4\n",
      "3 sides are 2 3 4\n",
      "area is 2.90\n"
     ]
    }
   ],
   "source": [
    "class Parent:\n",
    "    def __init__(self,a,b,c):\n",
    "        self.a=a\n",
    "        self.b=b\n",
    "        self.c=c\n",
    "    def enter(self):\n",
    "        return \"3 sides are {} {} {}\".format(self.a,self.b,self.c)\n",
    "print(\"enter the 3 sides of triangle :\")\n",
    "a=int(input(\"a: \"))\n",
    "b=int(input(\"b: \"))\n",
    "c=int(input(\"c: \"))        \n",
    "obj=Parent(a,b,c) \n",
    "print(obj.enter())\n",
    "\n",
    "class Sub_class(Parent):\n",
    "    def __int__(self,*args):\n",
    "        super(Sub_class,self).__init__(*args)\n",
    "    def sum(self):\n",
    "        s=(self.a+self.b+self.c)/2\n",
    "        areas=((s*(s-self.a)*(s-self.b)*(s-self.c))**0.5)\n",
    "        return 'area is %0.2f' %(areas)\n",
    "obj2=Sub_class(obj.a,obj.b,obj.c)\n",
    "print(obj2.sum())\n",
    "    \n",
    "    \n",
    "    \n",
    "    \n",
    "        \n",
    "        "
   ]
  },
  {
   "cell_type": "markdown",
   "metadata": {},
   "source": [
    "1.2 Write a function filter_long_words() that takes a list of words and an integer n and returns\n",
    "the list of words that are longer than n."
   ]
  },
  {
   "cell_type": "code",
   "execution_count": 6,
   "metadata": {},
   "outputs": [
    {
     "name": "stdout",
     "output_type": "stream",
     "text": [
      "enter the  no of words to enter:\n",
      "6\n",
      "enter a string: srikala\n",
      "enter a string: amma\n",
      "enter a string: charlie\n",
      "enter a string: perugude\n",
      "enter a string: siba\n",
      "enter a string: lunna\n",
      "enter the number: \n",
      "5\n",
      "list of string  ['srikala', 'amma', 'charlie', 'perugude', 'siba', 'lunna']\n",
      "filtered string  ['srikala', 'charlie', 'perugude']\n"
     ]
    }
   ],
   "source": [
    "def filter_long_words(p):\n",
    "    if len(p)>num:\n",
    "        return p      \n",
    "s=[]    \n",
    "print(\"enter the  no of words to enter:\")  \n",
    "n=int(input())\n",
    "for i in range(n):\n",
    "    string=input(\"enter a string: \")\n",
    "    s.append(string)\n",
    "print(\"enter the number: \")\n",
    "global num\n",
    "num=int(input())\n",
    "t=list(filter(filter_long_words,s))\n",
    "print(\"list of string \",s)\n",
    "print(\"filtered string \",t)    \n",
    "    "
   ]
  },
  {
   "cell_type": "markdown",
   "metadata": {},
   "source": [
    "2.1 Write a Python program using function concept that maps list of words into a list of integers\n",
    "representing the lengths of the corresponding words.\n",
    "Hint: If a list [ ab,cde,erty] is passed on to the python function output should come as [2,3,4]\n",
    "Here 2,3 and 4 are the lengths of the words in the list."
   ]
  },
  {
   "cell_type": "code",
   "execution_count": 7,
   "metadata": {},
   "outputs": [
    {
     "name": "stdout",
     "output_type": "stream",
     "text": [
      "how many strings you want to input\n",
      "3\n",
      "enter: srikala\n",
      "enter: amma\n",
      "enter: put\n",
      "list of strings are ['srikala', 'amma', 'put']\n",
      "length of strings in a list is  [7, 4, 3]\n"
     ]
    }
   ],
   "source": [
    "def func(m):\n",
    "    for i in m:\n",
    "        j=len(i)\n",
    "        yield j\n",
    "m=[]\n",
    "e=[]\n",
    "print(\"how many strings you want to input\")\n",
    "n=int(input())\n",
    "for i in range(n):\n",
    "    string=input(\"enter: \")\n",
    "    m.append(string)\n",
    "print(\"list of strings are\",m) \n",
    "for h in func(m) :\n",
    "    e.append(h)\n",
    "print(\"length of strings in a list is \",e)"
   ]
  },
  {
   "cell_type": "code",
   "execution_count": 9,
   "metadata": {},
   "outputs": [
    {
     "name": "stdout",
     "output_type": "stream",
     "text": [
      "how many strings you want to input\n",
      "3\n",
      "enter: srikala\n",
      "enter: amma\n",
      "enter: put\n",
      "list of strings are ['srikala', 'amma', 'put']\n",
      "length of words are:  [7, 4, 3]\n"
     ]
    }
   ],
   "source": [
    "#alternative answer for 2.1 using map()\n",
    "\n",
    "def func(m):\n",
    "    return list(map(lambda x:len(x),m))\n",
    "m=[]\n",
    "e=[]\n",
    "print(\"how many strings you want to input\")\n",
    "n=int(input())\n",
    "for i in range(n):\n",
    "    string=input(\"enter: \")\n",
    "    m.append(string)\n",
    "print(\"list of strings are\",m) \n",
    "print(\"length of words are: \",str(func(m)))"
   ]
  },
  {
   "cell_type": "markdown",
   "metadata": {},
   "source": [
    "2.2 Write a Python function which takes a character (i.e. a string of length 1) and returns True if\n",
    "it is a vowel, False otherwise."
   ]
  },
  {
   "cell_type": "code",
   "execution_count": 8,
   "metadata": {},
   "outputs": [
    {
     "name": "stdout",
     "output_type": "stream",
     "text": [
      "enter a single character or enter nothing to stop : 3\n",
      "False\n",
      "enter a single character or enter nothing to stop : srikala\n",
      "enter single character\n",
      "enter a single character or enter nothing to stop : a\n",
      "True\n",
      "enter a single character or enter nothing to stop : A\n",
      "True\n",
      "enter a single character or enter nothing to stop : b\n",
      "False\n",
      "enter a single character or enter nothing to stop : \n"
     ]
    }
   ],
   "source": [
    "def func(char):\n",
    "    for ch in char:\n",
    "        if ch in l:\n",
    "            return True\n",
    "        else:\n",
    "            return False\n",
    "l=['a','e','i','o','u','A',\"E\",'I',\"O\",\"U\"]            \n",
    "while(True):    \n",
    "    string=input(\"enter a single character or enter nothing to stop : \")\n",
    "    if string=='':\n",
    "        break\n",
    "    if len(string) != 1:\n",
    "        print(\"enter single character\") \n",
    "        continue\n",
    "    else:    \n",
    "        a=func(string)\n",
    "        print(a)"
   ]
  },
  {
   "cell_type": "code",
   "execution_count": null,
   "metadata": {
    "collapsed": true
   },
   "outputs": [],
   "source": [
    "                    "
   ]
  },
  {
   "cell_type": "code",
   "execution_count": null,
   "metadata": {
    "collapsed": true
   },
   "outputs": [],
   "source": []
  }
 ],
 "metadata": {
  "kernelspec": {
   "display_name": "Python 3",
   "language": "python",
   "name": "python3"
  },
  "language_info": {
   "codemirror_mode": {
    "name": "ipython",
    "version": 3
   },
   "file_extension": ".py",
   "mimetype": "text/x-python",
   "name": "python",
   "nbconvert_exporter": "python",
   "pygments_lexer": "ipython3",
   "version": "3.6.8"
  }
 },
 "nbformat": 4,
 "nbformat_minor": 2
}
