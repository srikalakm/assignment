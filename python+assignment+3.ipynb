{
 "cells": [
  {
   "cell_type": "markdown",
   "metadata": {},
   "source": [
    "# ASSIGNMENT 3"
   ]
  },
  {
   "cell_type": "markdown",
   "metadata": {},
   "source": [
    "1)Write a Python Program to implement your own myreduce() function which works exactly\n",
    "like Python's built-in function reduce()"
   ]
  },
  {
   "cell_type": "code",
   "execution_count": 4,
   "metadata": {},
   "outputs": [
    {
     "name": "stdout",
     "output_type": "stream",
     "text": [
      "entered string: [1, 2, 3, 4, 5]\n",
      "reduced string:  15\n"
     ]
    }
   ],
   "source": [
    "def my_reduce(func,sequence) :\n",
    "    res=sequence[0]\n",
    "    for variable in sequence[1:]:\n",
    "        res =func(variable,res)             #we are performing addition of elements in list\n",
    "\n",
    "    return res\n",
    "\n",
    "\n",
    "def my_sum(a,b):\n",
    "    return a+b\n",
    "\n",
    "\n",
    "seq=[1,2,3,4,5]\n",
    "print(\"entered string:\",seq)\n",
    "print(\"reduced string: \",str(my_reduce(my_sum,seq)))"
   ]
  },
  {
   "cell_type": "markdown",
   "metadata": {},
   "source": [
    "2)Write a Python program to implement your own myfilter() function which works exactly\n",
    "like Python's built-in function filter()"
   ]
  },
  {
   "cell_type": "code",
   "execution_count": 18,
   "metadata": {},
   "outputs": [
    {
     "name": "stdout",
     "output_type": "stream",
     "text": [
      "orginal list  [1, 2, 3, 4, 5, 6, 7, 8]\n",
      "filtered list  [2, 4, 6, 8]\n"
     ]
    }
   ],
   "source": [
    "def myfilter(func,li):\n",
    "    r=[] \n",
    "    for s in li:\n",
    "        if func(s):\n",
    "            r.append(s)\n",
    "    return r    \n",
    "\n",
    "    \n",
    "def iseven(lis) :\n",
    "        if lis%2==0:\n",
    "            return True\n",
    "        else:\n",
    "            return False\n",
    "               \n",
    "l=[1,2,3,4,5,6,7,8] \n",
    "w=myfilter(iseven,l)\n",
    "print(\"orginal list \",l)\n",
    "print(\"filtered list \",w)"
   ]
  },
  {
   "cell_type": "markdown",
   "metadata": {},
   "source": [
    "3) Implement List comprehensions to produce the following lists.\n",
    "Write List comprehensions to produce the following Lists\n"
   ]
  },
  {
   "cell_type": "markdown",
   "metadata": {
    "collapsed": true
   },
   "source": [
    "3a)['x', 'xx', 'xxx', 'xxxx', 'y', 'yy', 'yyy', 'yyyy', 'z', 'zz', 'zzz', 'zzzz']"
   ]
  },
  {
   "cell_type": "code",
   "execution_count": 7,
   "metadata": {},
   "outputs": [
    {
     "name": "stdout",
     "output_type": "stream",
     "text": [
      "list is  ['x', 'xx', 'xxx', 'xxxx', 'y', 'yy', 'yyy', 'yyyy', 'z', 'zz', 'zzz', 'zzzz']\n"
     ]
    }
   ],
   "source": [
    "l=['x','y','z']\n",
    "s=[]\n",
    "for i in iter(l):\n",
    "    for j in range(1,5):\n",
    "        o=i*j\n",
    "        s.append(o)\n",
    "\n",
    "\n",
    "print(\"list is \",s)"
   ]
  },
  {
   "cell_type": "markdown",
   "metadata": {},
   "source": [
    "3b) ['x', 'y', 'z', 'xx', 'yy', 'zz', 'xxx', 'yyy', 'zzz', 'xxxx', 'yyyy', 'zzzz']"
   ]
  },
  {
   "cell_type": "code",
   "execution_count": 8,
   "metadata": {},
   "outputs": [
    {
     "name": "stdout",
     "output_type": "stream",
     "text": [
      "['x', 'y', 'z', 'xx', 'yy', 'zz', 'xxx', 'yyy', 'zzz', 'xxxx', 'yyyy', 'zzzz']\n"
     ]
    }
   ],
   "source": [
    "l=['x','y','z']\n",
    "s=[]\n",
    "for i in range(1,5):\n",
    "    for j in iter(l):\n",
    "        m=i*j\n",
    "        s.append(m)\n",
    "print(s)      "
   ]
  },
  {
   "cell_type": "markdown",
   "metadata": {},
   "source": [
    "3c) [[2], [3], [4], [3], [4], [5], [4], [5], [6]] [[2, 3, 4, 5], [3, 4, 5, 6],\n",
    "[4, 5, 6, 7], [5, 6, 7, 8]]"
   ]
  },
  {
   "cell_type": "code",
   "execution_count": 9,
   "metadata": {},
   "outputs": [
    {
     "name": "stdout",
     "output_type": "stream",
     "text": [
      "list is :\n",
      "[[2], [3], [4], [3], [4], [5], [4], [5], [6]],[[2, 3, 4, 5], [3, 4, 5, 6], [4, 5, 6, 7], [5, 6, 7, 8]]\n"
     ]
    }
   ],
   "source": [
    "s=[]\n",
    "m=[]\n",
    "r=[]\n",
    "\n",
    "for i in range(2,5):\n",
    "    for j in range(i,i+3):\n",
    "        m.append([j])\n",
    "for i in range(2,6):\n",
    "    for j in range(i,i+4):\n",
    "        s.append(j)\n",
    "for i in range(0,len(s),4):\n",
    "    chunk=s[i:i+4]\n",
    "    r.append(chunk)\n",
    "  \n",
    "print(\"list is :\") \n",
    "print(m,end=',')  \n",
    "print(r)"
   ]
  },
  {
   "cell_type": "markdown",
   "metadata": {},
   "source": [
    "3d)[(1, 1), (2, 1), (3, 1), (1, 2), (2, 2), (3, 2), (1, 3), (2, 3), (3, 3)]"
   ]
  },
  {
   "cell_type": "code",
   "execution_count": 12,
   "metadata": {},
   "outputs": [
    {
     "name": "stdout",
     "output_type": "stream",
     "text": [
      "list is : [(1, 1), (2, 1), (3, 1), (1, 2), (2, 2), (3, 2), (1, 3), (2, 3), (3, 3)]\n"
     ]
    }
   ],
   "source": [
    "s=[]\n",
    "for i in range(1,4):\n",
    "    for j in range(1,4):\n",
    "        m=(j,i)\n",
    "        s.append(m)    \n",
    "print(\"list is :\",s)    "
   ]
  },
  {
   "cell_type": "code",
   "execution_count": null,
   "metadata": {
    "collapsed": true
   },
   "outputs": [],
   "source": []
  }
 ],
 "metadata": {
  "kernelspec": {
   "display_name": "Python 3",
   "language": "python",
   "name": "python3"
  },
  "language_info": {
   "codemirror_mode": {
    "name": "ipython",
    "version": 3
   },
   "file_extension": ".py",
   "mimetype": "text/x-python",
   "name": "python",
   "nbconvert_exporter": "python",
   "pygments_lexer": "ipython3",
   "version": "3.6.8"
  }
 },
 "nbformat": 4,
 "nbformat_minor": 2
}
