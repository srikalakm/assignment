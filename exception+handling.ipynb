{
 "cells": [
  {
   "cell_type": "markdown",
   "metadata": {},
   "source": [
    "# #EXCEPTION HANDLING"
   ]
  },
  {
   "cell_type": "markdown",
   "metadata": {},
   "source": [
    "1. Write a function to compute 5/0 and use try/except to catch the exceptions."
   ]
  },
  {
   "cell_type": "code",
   "execution_count": 6,
   "metadata": {},
   "outputs": [
    {
     "name": "stdout",
     "output_type": "stream",
     "text": [
      "enter a value for divisor or enter '111' to stop: \n",
      "0\n",
      "divisor is zero so it is not defined \n",
      "quotient is : None\n",
      "enter a value for divisor or enter '111' to stop: \n",
      "5\n",
      "quotient is : 1.0\n",
      "enter a value for divisor or enter '111' to stop: \n",
      "2\n",
      "quotient is : 2.5\n",
      "enter a value for divisor or enter '111' to stop: \n",
      "111\n"
     ]
    }
   ],
   "source": [
    "def func(value):\n",
    "    try:\n",
    "        div=5/value\n",
    "        return div\n",
    "    except ZeroDivisionError:\n",
    "        print(\"divisor is zero so it is not defined \")\n",
    "while True:\n",
    "    print(\"enter a value for divisor or enter '111' to stop: \")\n",
    "    num=float(input())\n",
    "    if num==111:\n",
    "        break\n",
    "    else:\n",
    "        output=func(num)\n",
    "        print(\"quotient is :\",output)       \n",
    "        "
   ]
  },
  {
   "cell_type": "markdown",
   "metadata": {},
   "source": [
    "\n",
    "\n",
    "\n",
    "--------------------------------------------------------------------------------------------------------------------------------\n",
    "\n",
    "2. Implement a Python program to generate all sentences where subject is in\n",
    "[\"Americans\", \"Indians\"] and verb is in [\"Play\", \"watch\"] and the object is in\n",
    "[\"Baseball\",\"cricket\"].\n",
    "Hint: Subject,Verb and Object should be declared in the program as shown below.\n",
    "subjects=[\"Americans \",\"Indians\"]\n",
    "verbs=[\"play\",\"watch\"]\n",
    "objects=[\"Baseball\",\"Cricket\"]\n",
    "Output should come as below:\n",
    "Americans play Baseball.\n",
    "Americans play Cricket.\n",
    "Americans watch Baseball.\n",
    "Americans watch Cricket.\n",
    "Indians play Baseball.\n",
    "Indians play Cricket.\n",
    "Indians watch Baseball.\n",
    "Indians watch Cricket."
   ]
  },
  {
   "cell_type": "code",
   "execution_count": 13,
   "metadata": {},
   "outputs": [
    {
     "name": "stdout",
     "output_type": "stream",
     "text": [
      "americans play baseball\n",
      "americans play cricket\n",
      "americans watch baseball\n",
      "americans watch cricket\n",
      "indians play baseball\n",
      "indians play cricket\n",
      "indians watch baseball\n",
      "indians watch cricket\n"
     ]
    }
   ],
   "source": [
    "subject=[\"americans\",\"indians\"]\n",
    "verb=[\"play\",\"watch\"]\n",
    "object=[\"baseball\",\"cricket\"]\n",
    "for i in subject:\n",
    "    for j in verb:\n",
    "        for k in object:\n",
    "            string=i+' '+j+' '+k\n",
    "            print(string)\n",
    "\n",
    "        "
   ]
  },
  {
   "cell_type": "code",
   "execution_count": null,
   "metadata": {
    "collapsed": true
   },
   "outputs": [],
   "source": []
  }
 ],
 "metadata": {
  "kernelspec": {
   "display_name": "Python 3",
   "language": "python",
   "name": "python3"
  },
  "language_info": {
   "codemirror_mode": {
    "name": "ipython",
    "version": 3
   },
   "file_extension": ".py",
   "mimetype": "text/x-python",
   "name": "python",
   "nbconvert_exporter": "python",
   "pygments_lexer": "ipython3",
   "version": "3.6.8"
  }
 },
 "nbformat": 4,
 "nbformat_minor": 2
}
